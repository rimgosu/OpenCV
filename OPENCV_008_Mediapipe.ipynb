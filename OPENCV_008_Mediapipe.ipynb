{
 "cells": [
  {
   "cell_type": "markdown",
   "id": "79a24eb8-7950-4f96-ba94-7cda604ff601",
   "metadata": {},
   "source": [
    "# 얼굴 인식, 점찍기"
   ]
  },
  {
   "cell_type": "markdown",
   "id": "2ad64def-f6f8-4a35-bedd-4bb0b14e826e",
   "metadata": {},
   "source": [
    "# 얼굴 인식, 점찍기"
   ]
  },
  {
   "cell_type": "code",
   "execution_count": 9,
   "id": "0b2a7524-80e6-48e4-98aa-e6a9207616f1",
   "metadata": {},
   "outputs": [],
   "source": [
    "import mediapipe as mp\n",
    "import cv2\n",
    "\n",
    "# 얼굴에서 특징점을 찾을 수 있는 기능 불러오기\n",
    "mp_face_mesh = mp.solutions.face_mesh\n",
    "# 찾은 특징점 표현하기\n",
    "mp_drawing = mp.solutions.drawing_utils\n",
    "# 특징점 그리기 속성\n",
    "drawing_spec = mp_drawing.DrawingSpec(thickness=1, color= (0,0,255))\n",
    "# 얼굴에서 특징점 찾기 속성\n",
    "face_mesh = mp_face_mesh.FaceMesh(\n",
    "    min_detection_confidence = 0.5, # 얼굴 검출 확률(자체판단) 50% 이상인 것들만 출력하기\n",
    "    min_tracking_confidence = 0.5 # 특징점 검출 확률(자체판단) 50% 이상인 것들만 출력하기\n",
    ")\n",
    "\n",
    "cap = cv2.VideoCapture(0)\n",
    "\n",
    "while cap.isOpened():\n",
    "    ret, img = cap.read()\n",
    "    if not ret:\n",
    "        break\n",
    "\n",
    "    # 카메라에서 불러온 사진에서 얼굴 틀징점 찾기\n",
    "    results = face_mesh.process(img)\n",
    "\n",
    "    # 얼굴의 특징점(478)을 감지했을 때 실행하겠다\n",
    "    if results.multi_face_landmarks is not None:\n",
    "        # print(results.multi_face_landmarks)\n",
    "        for res in results.multi_face_landmarks:\n",
    "            mp_drawing.draw_landmarks(img, res, mp_face_mesh.FACEMESH_TESSELATION)\n",
    "    \n",
    "    cv2.imshow('video', img)\n",
    "    if cv2.waitKey(33) == 49:\n",
    "        break\n",
    "\n",
    "cap.release()\n",
    "cv2.destroyAllWindows()"
   ]
  },
  {
   "cell_type": "markdown",
   "id": "7411ccf1-1a29-4c8d-9242-7add9b34d5c7",
   "metadata": {},
   "source": [
    "# 코에 점 찍기"
   ]
  },
  {
   "cell_type": "markdown",
   "id": "769ad654-2f93-4463-a07b-50884349443e",
   "metadata": {},
   "source": [
    "# 코에 점 찍기"
   ]
  },
  {
   "cell_type": "code",
   "execution_count": 17,
   "id": "baf21a24-15a8-4b22-967d-5c665f7abbdb",
   "metadata": {},
   "outputs": [],
   "source": [
    "import mediapipe as mp\n",
    "import cv2\n",
    "\n",
    "mp_face_mesh = mp.solutions.face_mesh\n",
    "mp_drawing = mp.solutions.drawing_utils\n",
    "drawing_spec = mp_drawing.DrawingSpec(thickness=1, color= (0,0,255))\n",
    "face_mesh = mp_face_mesh.FaceMesh(\n",
    "    min_detection_confidence = 0.5, \n",
    "    min_tracking_confidence = 0.5 \n",
    ")\n",
    "\n",
    "cap = cv2.VideoCapture(0)\n",
    "\n",
    "while cap.isOpened():\n",
    "    ret, img = cap.read()\n",
    "    if not ret:\n",
    "        break\n",
    "\n",
    "    results = face_mesh.process(img)\n",
    "\n",
    "    if results.multi_face_landmarks is not None:\n",
    "        face_landmarks = results.multi_face_landmarks[0]\n",
    "        # 코의 좌표 찾기\n",
    "        x = int(face_landmarks.landmark[4].x * img.shape[1])\n",
    "        y = int(face_landmarks.landmark[4].y * img.shape[0])\n",
    "        # print(x,y)\n",
    "        cv2.circle(img, (x,y), 20, (0,0,255), cv2.FILLED)\n",
    "    \n",
    "    cv2.imshow('video', img)\n",
    "    if cv2.waitKey(33) == 49:\n",
    "        break\n",
    "\n",
    "cap.release()\n",
    "cv2.destroyAllWindows()"
   ]
  },
  {
   "cell_type": "markdown",
   "id": "88a41d10-09f0-4b26-a908-2e3f35e48dfb",
   "metadata": {},
   "source": [
    "# 호랑이 가면 합성하기"
   ]
  },
  {
   "cell_type": "markdown",
   "id": "4305db34-1b1a-4ccb-ab29-c401a5d12b62",
   "metadata": {},
   "source": [
    "# 호랑이 가면 합성하기"
   ]
  },
  {
   "cell_type": "code",
   "execution_count": 23,
   "id": "9cba303b-9e27-46d5-9774-8f86772c68bf",
   "metadata": {},
   "outputs": [],
   "source": [
    "import mediapipe as mp\n",
    "import cv2\n",
    "\n",
    "tiger = cv2.imread('images/psy_img/tiger_mask.png')\n",
    "mask2gray = cv2.cvtColor(tiger , cv2.COLOR_BGR2GRAY)\n",
    "_, mask_b = cv2.threshold(mask2gray, 200, 255, cv2.THRESH_BINARY)\n",
    "mask_b_inv = cv2.bitwise_not(mask_b)\n",
    "\n",
    "mp_face_mesh = mp.solutions.face_mesh\n",
    "mp_drawing = mp.solutions.drawing_utils\n",
    "drawing_spec = mp_drawing.DrawingSpec(thickness=1, color= (0,0,255))\n",
    "face_mesh = mp_face_mesh.FaceMesh(\n",
    "    min_detection_confidence = 0.5, \n",
    "    min_tracking_confidence = 0.5 \n",
    ")\n",
    "\n",
    "cap = cv2.VideoCapture(0)\n",
    "\n",
    "while cap.isOpened():\n",
    "    ret, img = cap.read()\n",
    "    if not ret:\n",
    "        break\n",
    "\n",
    "    results = face_mesh.process(img)\n",
    "\n",
    "    if results.multi_face_landmarks is not None:\n",
    "        face_landmarks = results.multi_face_landmarks[0]\n",
    "        x = int(face_landmarks.landmark[4].x * img.shape[1])\n",
    "        y = int(face_landmarks.landmark[4].y * img.shape[0])\n",
    "\n",
    "        # 이미지를 집어넣을 중심 좌표(코의 위치) > x,y\n",
    "        # 마스크 이미지의 크기 > 123,132(tiger.shape)\n",
    "\n",
    "        # 외곽으로 가면 이미지 범위를 벗어나서 오류남으로 try, except\n",
    "        try:\n",
    "            sub_img = img[y-61:y+62, x-66:x+66]\n",
    "            img_bg = cv2.bitwise_and(sub_img, sub_img, mask = mask_b)\n",
    "            img_fg = cv2.bitwise_and(tiger,tiger, mask = mask_b_inv)\n",
    "            bg_fg = cv2.add(img_bg,img_fg)\n",
    "            img[y-61:y+62, x-66:x+66] = bg_fg\n",
    "        except:\n",
    "            pass\n",
    "    \n",
    "    cv2.imshow('video', img)\n",
    "    if cv2.waitKey(33) == 49:\n",
    "        break\n",
    "\n",
    "cap.release()\n",
    "cv2.destroyAllWindows()"
   ]
  },
  {
   "cell_type": "markdown",
   "id": "6cf8a91f-a1da-41b9-aaeb-5c72cdc7f319",
   "metadata": {},
   "source": [
    "# resize"
   ]
  },
  {
   "cell_type": "markdown",
   "id": "61bb611c-b3c2-407b-849a-5084fac88025",
   "metadata": {},
   "source": [
    "# resize"
   ]
  },
  {
   "cell_type": "code",
   "execution_count": 52,
   "id": "da061bab-6e58-4681-a513-adfb825af2c3",
   "metadata": {},
   "outputs": [],
   "source": [
    "import mediapipe as mp\n",
    "import cv2\n",
    "\n",
    "# 크기를 조정할 전역 변수\n",
    "TIGER_WIDTH = 150  # 이미지의 가로 크기\n",
    "TIGER_HEIGHT = 150  # 이미지의 세로 크기\n",
    "\n",
    "# 위치를 동적으로 계산\n",
    "TIGER_OFFSET_X = -(TIGER_WIDTH // 2)\n",
    "TIGER_OFFSET_Y = -(TIGER_HEIGHT // 2)\n",
    "\n",
    "# tiger = cv2.imread('images/psy_img/botchi.jpg')\n",
    "tiger = cv2.imread('images/psy_img/anaya.jpg')\n",
    "# 이미지 사이즈 조정\n",
    "tiger = cv2.resize(tiger, (TIGER_WIDTH, TIGER_HEIGHT))\n",
    "mask2gray = cv2.cvtColor(tiger, cv2.COLOR_BGR2GRAY)\n",
    "_, mask_b = cv2.threshold(mask2gray, 240, 255, cv2.THRESH_BINARY)\n",
    "mask_b_inv = cv2.bitwise_not(mask_b)\n",
    "\n",
    "mp_face_mesh = mp.solutions.face_mesh\n",
    "mp_drawing = mp.solutions.drawing_utils\n",
    "drawing_spec = mp_drawing.DrawingSpec(thickness=1, color=(0, 0, 255))\n",
    "face_mesh = mp_face_mesh.FaceMesh(\n",
    "    min_detection_confidence=0.5,\n",
    "    min_tracking_confidence=0.5\n",
    ")\n",
    "\n",
    "cap = cv2.VideoCapture(0)\n",
    "\n",
    "while cap.isOpened():\n",
    "    ret, img = cap.read()\n",
    "    if not ret:\n",
    "        break\n",
    "\n",
    "    results = face_mesh.process(img)\n",
    "\n",
    "    if results.multi_face_landmarks is not None:\n",
    "        face_landmarks = results.multi_face_landmarks[0]\n",
    "        x = int(face_landmarks.landmark[4].x * img.shape[1])\n",
    "        y = int(face_landmarks.landmark[4].y * img.shape[0])\n",
    "\n",
    "        try:\n",
    "            sub_img = img[y + TIGER_OFFSET_Y:y + TIGER_OFFSET_Y + TIGER_HEIGHT,\n",
    "                          x + TIGER_OFFSET_X:x + TIGER_OFFSET_X + TIGER_WIDTH]\n",
    "            img_bg = cv2.bitwise_and(sub_img, sub_img, mask=mask_b)\n",
    "            img_fg = cv2.bitwise_and(tiger, tiger, mask=mask_b_inv)\n",
    "            bg_fg = cv2.add(img_bg, img_fg)\n",
    "            img[y + TIGER_OFFSET_Y:y + TIGER_OFFSET_Y + TIGER_HEIGHT,\n",
    "                x + TIGER_OFFSET_X:x + TIGER_OFFSET_X + TIGER_WIDTH] = bg_fg\n",
    "        except:\n",
    "            pass\n",
    "\n",
    "    cv2.imshow('video', img)\n",
    "    if cv2.waitKey(33) == 49:\n",
    "        break\n",
    "\n",
    "cap.release()\n",
    "cv2.destroyAllWindows()\n"
   ]
  },
  {
   "cell_type": "code",
   "execution_count": null,
   "id": "df82a153-df1c-41cc-816d-a2fe01a74e63",
   "metadata": {},
   "outputs": [],
   "source": []
  },
  {
   "cell_type": "code",
   "execution_count": null,
   "id": "359b5f60-aa43-41ed-9b23-d284176a8f92",
   "metadata": {},
   "outputs": [],
   "source": []
  },
  {
   "cell_type": "code",
   "execution_count": null,
   "id": "a25fca11-177f-4f33-916b-5953a2f4ddd4",
   "metadata": {},
   "outputs": [],
   "source": []
  },
  {
   "cell_type": "code",
   "execution_count": null,
   "id": "9f0d631b-6aa9-4fea-ad24-925184b339a3",
   "metadata": {},
   "outputs": [],
   "source": []
  },
  {
   "cell_type": "code",
   "execution_count": null,
   "id": "3bb6f6dd-ce2c-4780-b6be-707fc7fd12e5",
   "metadata": {},
   "outputs": [],
   "source": []
  },
  {
   "cell_type": "code",
   "execution_count": null,
   "id": "99d82ae6-6962-4dc6-b4e4-cad8a370cf65",
   "metadata": {},
   "outputs": [],
   "source": []
  },
  {
   "cell_type": "code",
   "execution_count": null,
   "id": "9ad99d67-e31e-4fa2-8d4a-f8c4d5ff04c2",
   "metadata": {},
   "outputs": [],
   "source": []
  },
  {
   "cell_type": "code",
   "execution_count": null,
   "id": "fb8a24be-3cca-4e33-b124-e481bc4d59ec",
   "metadata": {},
   "outputs": [],
   "source": []
  },
  {
   "cell_type": "code",
   "execution_count": null,
   "id": "0b454a75-1233-47fe-807e-6958a07a774d",
   "metadata": {},
   "outputs": [],
   "source": []
  },
  {
   "cell_type": "code",
   "execution_count": null,
   "id": "9258b876-2fcf-4b67-9165-17d471d91d1b",
   "metadata": {},
   "outputs": [],
   "source": []
  },
  {
   "cell_type": "code",
   "execution_count": null,
   "id": "0a0242d5-35d0-4b80-aded-f72020e98f6c",
   "metadata": {},
   "outputs": [],
   "source": []
  },
  {
   "cell_type": "code",
   "execution_count": null,
   "id": "aa212785-fe0e-452a-b1b2-7314e5b59536",
   "metadata": {},
   "outputs": [],
   "source": []
  }
 ],
 "metadata": {
  "kernelspec": {
   "display_name": "Python 3 (ipykernel)",
   "language": "python",
   "name": "python3"
  },
  "language_info": {
   "codemirror_mode": {
    "name": "ipython",
    "version": 3
   },
   "file_extension": ".py",
   "mimetype": "text/x-python",
   "name": "python",
   "nbconvert_exporter": "python",
   "pygments_lexer": "ipython3",
   "version": "3.8.18"
  }
 },
 "nbformat": 4,
 "nbformat_minor": 5
}
