{
 "cells": [
  {
   "cell_type": "code",
   "execution_count": 14,
   "id": "b2388143-c9d9-4d99-8502-3131e731651e",
   "metadata": {},
   "outputs": [],
   "source": [
    "import cv2\n",
    "\n",
    "psy = cv2.imread('./images/psy_img/psy.png')\n",
    "tiger = cv2.imread('./images/psy_img/tiger_mask.png')\n",
    "\n",
    "# 마스크 이진이미지 만들기 = 쓸 부분과 안쓸 부분 구분하기\n",
    "mask2gray = cv2.cvtColor(tiger, cv2.COLOR_BGR2GRAY)\n",
    "_, mask_b = cv2.threshold(mask2gray, 200, 255, cv2.THRESH_BINARY)\n",
    "\n",
    "# 마스크 이미지 반전\n",
    "# 흰부분 사용 / 검은 부분 사용 안함 (위와 반대)\n",
    "mask_b_inv = cv2.bitwise_not(mask_b)\n",
    "\n",
    "# 호랑이 이미지에서 사용할 영역의 값만 추출하기(흰부분 가져오고 검은 부분 안가져옴)\n",
    "sub_psy = psy[94:217, 239:371]\n",
    "img_bg = cv2.bitwise_and(sub_psy, sub_psy, mask= mask_b)\n",
    "img_fg = cv2.bitwise_and(tiger, tiger, mask=mask_b_inv)\n",
    "bg_fg = cv2.add(img_bg,img_fg)\n",
    "\n",
    "# 원래 이미지에 합성하기\n",
    "psy[94:217, 239:371] = bg_fg\n",
    "cv2.imshow('psy', psy)\n",
    "cv2.waitKey(0)\n",
    "cv2.destroyAllWindows()"
   ]
  },
  {
   "cell_type": "code",
   "execution_count": 4,
   "id": "aee81d8d-b7cd-4a8a-b75c-11a35f6a4e5f",
   "metadata": {},
   "outputs": [],
   "source": []
  },
  {
   "cell_type": "code",
   "execution_count": 18,
   "id": "c8fed5df-a91b-4a38-959b-ed8d757a02dc",
   "metadata": {},
   "outputs": [
    {
     "data": {
      "text/plain": [
       "((838, 630, 3), (123, 132, 3))"
      ]
     },
     "execution_count": 18,
     "metadata": {},
     "output_type": "execute_result"
    }
   ],
   "source": [
    "# 컬러 이미지\n",
    "# 세로, 가로, 색상 채널\n",
    "psy.shape, tiger.shape\n",
    "# (y,x)"
   ]
  },
  {
   "cell_type": "code",
   "execution_count": 22,
   "id": "4f9d0978-b794-4af5-a6b2-602a1e66a4e9",
   "metadata": {},
   "outputs": [],
   "source": [
    "# 좌 상단 좌표 : 280, 50\n",
    "# 우 하단 좌표 : 400, 200\n",
    "# 싸이 얼굴 영역 자르기\n",
    "# [열=y, 행=x]\n",
    "# psy[94:217, 239:371] = tiger\n",
    "# cv2.imshow('psy', psy)\n",
    "cv2.waitKey(0)\n",
    "cv2.destroyAllWindows()"
   ]
  },
  {
   "cell_type": "markdown",
   "id": "41e5d0f2-ffc9-4579-aae7-48bef09c122e",
   "metadata": {},
   "source": [
    "# image_blend 함수"
   ]
  },
  {
   "cell_type": "code",
   "execution_count": 10,
   "id": "9b61db48-4087-4d10-b567-c11f00cae129",
   "metadata": {},
   "outputs": [],
   "source": [
    "import cv2\n",
    "\n",
    "def image_blend(background_path, mask_path, x, y, width, height):\n",
    "    background = cv2.imread(background_path)\n",
    "    mask = cv2.imread(mask_path)\n",
    "\n",
    "    # 마스크 이진 이미지 만들기\n",
    "    mask2gray = cv2.cvtColor(mask, cv2.COLOR_BGR2GRAY)\n",
    "    _, mask_b = cv2.threshold(mask2gray, 200, 255, cv2.THRESH_BINARY)\n",
    "\n",
    "    # 마스크 이미지 반전\n",
    "    mask_b_inv = cv2.bitwise_not(mask_b)\n",
    "\n",
    "    # 배경 이미지에서 사용할 영역 추출\n",
    "    sub_bg = background[y:y+height, x:x+width]\n",
    "\n",
    "    # 배경과 마스크에서 각각 필요한 부분만 추출\n",
    "    img_bg = cv2.bitwise_and(sub_bg, sub_bg, mask=mask_b)\n",
    "    img_fg = cv2.bitwise_and(mask, mask, mask=mask_b_inv)\n",
    "\n",
    "    # 배경과 전경 합성\n",
    "    blended = cv2.add(img_bg, img_fg)\n",
    "\n",
    "    # 원래 이미지에 합성 이미지 붙이기\n",
    "    background[y:y+height, x:x+width] = blended\n",
    "\n",
    "    # 결과 보여주기\n",
    "    cv2.imshow('Blended Image', background)\n",
    "    cv2.waitKey(0)\n",
    "    cv2.destroyAllWindows()\n",
    "\n",
    "image_blend('./images/psy_img/psy.png', './images/psy_img/tiger_mask.png', 239, 94, 132, 123)"
   ]
  },
  {
   "cell_type": "markdown",
   "id": "e35ddd36-4f2c-4df6-9137-298b9faa41b3",
   "metadata": {},
   "source": [
    "# 이미지 합성"
   ]
  },
  {
   "cell_type": "code",
   "execution_count": 11,
   "id": "d9def6de-5d74-4b3b-847d-5f8cd95f7a4b",
   "metadata": {},
   "outputs": [],
   "source": [
    "import cv2\n",
    "\n",
    "psy = cv2.imread('images/psy_img/psy.png')\n",
    "tiger = cv2.imread('images/psy_img/tiger_mask.png')\n",
    "\n",
    "mask2gray = cv2.cvtColor(tiger , cv2.COLOR_BGR2GRAY)\n",
    "_, mask_b = cv2.threshold(mask2gray, 200, 255, cv2.THRESH_BINARY)\n",
    "mask_b_inv = cv2.bitwise_not(mask_b)\n",
    "sub_psy = psy[ 94:217 , 239:371]\n",
    "img_bg = cv2.bitwise_and(sub_psy, sub_psy, mask = mask_b)\n",
    "img_fg = cv2.bitwise_and(tiger,tiger, mask = mask_b_inv)\n",
    "bg_fg = cv2.add(img_bg,img_fg)\n",
    "psy[ 94:217 , 239:371] = bg_fg\n",
    "\n",
    "cv2.imshow('psy',psy)\n",
    "cv2.waitKey(0)\n",
    "cv2.destroyAllWindows()"
   ]
  },
  {
   "cell_type": "code",
   "execution_count": 15,
   "id": "9358f5cd-56a6-485e-b3bb-48dd5afb72b0",
   "metadata": {},
   "outputs": [
    {
     "name": "stdout",
     "output_type": "stream",
     "text": [
      "종료\n"
     ]
    }
   ],
   "source": [
    "# import cv2\n",
    "\n",
    "cap = cv2.VideoCapture(0)\n",
    "\n",
    "tiger = cv2.imread('images/psy_img/tiger_mask.png')\n",
    "\n",
    "mask2gray = cv2.cvtColor(tiger , cv2.COLOR_BGR2GRAY)\n",
    "_, mask_b = cv2.threshold(mask2gray, 200, 255, cv2.THRESH_BINARY)\n",
    "mask_b_inv = cv2.bitwise_not(mask_b)\n",
    "\n",
    "while cap.isOpened() :\n",
    "\n",
    "    ret, frame = cap.read() # 초당 30번은 실행시켜야함\n",
    "    frame = cv2.flip(frame, 1)\n",
    "    \n",
    "    if not ret :\n",
    "        print(\"종료\")\n",
    "        break\n",
    "\n",
    "    sub_frame = frame[ 94:217 , 239:371]\n",
    "    img_bg = cv2.bitwise_and(sub_frame, sub_frame, mask = mask_b)\n",
    "    img_fg = cv2.bitwise_and(tiger,tiger, mask = mask_b_inv)\n",
    "    bg_fg = cv2.add(img_bg,img_fg)\n",
    "    frame[ 94:217 , 239:371] = bg_fg\n",
    "        \n",
    "    cv2.imshow(\"video\", frame)\n",
    "    \n",
    "    key = cv2.waitKey(33) # 1장의 사진을 33ms동안 출력한다. 1초 = 1000ms \n",
    "\n",
    "    if key == 49 :\n",
    "        print(\"종료\")\n",
    "        break\n",
    "        \n",
    "cap.release()\n",
    "cv2.destroyAllWindows()"
   ]
  }
 ],
 "metadata": {
  "kernelspec": {
   "display_name": "Python 3 (ipykernel)",
   "language": "python",
   "name": "python3"
  },
  "language_info": {
   "codemirror_mode": {
    "name": "ipython",
    "version": 3
   },
   "file_extension": ".py",
   "mimetype": "text/x-python",
   "name": "python",
   "nbconvert_exporter": "python",
   "pygments_lexer": "ipython3",
   "version": "3.8.18"
  }
 },
 "nbformat": 4,
 "nbformat_minor": 5
}
