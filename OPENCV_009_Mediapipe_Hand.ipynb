{
 "cells": [
  {
   "cell_type": "code",
   "execution_count": 1,
   "id": "527121d2-5553-45fa-8351-3de2199b955c",
   "metadata": {},
   "outputs": [],
   "source": [
    "import cv2\n",
    "import mediapipe as mp\n",
    "cap = cv2.VideoCapture(0)\n",
    "\n",
    "# 손을 찾는 기능 불러오기\n",
    "mp_hands = mp.solutions.hands\n",
    "# 특징점 그리기 설정\n",
    "mp_drawing = mp.solutions.drawing_utils\n",
    "# 손 특징점 찾기 관련 설정\n",
    "hands = mp_hands.Hands(\n",
    "    max_num_hands = 2, \n",
    "    min_detection_confidence = 0.5, # 손 검출 확률 (자체 판단) 50% 이상인 것들만 출력하기\n",
    "    min_tracking_confidence = 0.5 # 특지점 검출 확률 (자체 판단) 50% 이상인 것들만 출력하기\n",
    ")\n",
    "\n",
    "while cap.isOpened():\n",
    "    ret, img = cap.read()\n",
    "    img = cv2.flip(img, 1)\n",
    "    if not ret:\n",
    "        break\n",
    "\n",
    "    # 이미지에서 원하는 대상(손) 찾기\n",
    "    result = hands.process(img)\n",
    "    # 손을 검출했다면 표현하기\n",
    "    if result.multi_hand_landmarks is not None:\n",
    "        # 21개의 특징점을 하나씩 그려주기\n",
    "        for res in result.multi_hand_landmarks:\n",
    "            mp_drawing.draw_landmarks(img, res, mp_hands.HAND_CONNECTIONS)\n",
    "    \n",
    "    cv2.imshow('video', img)\n",
    "    if cv2.waitKey(33) == 49:\n",
    "        break\n",
    "\n",
    "cap.release()\n",
    "cv2.destroyAllWindows()"
   ]
  },
  {
   "cell_type": "markdown",
   "id": "96a1b822-5571-465b-93fb-5727505226d2",
   "metadata": {},
   "source": [
    "\n",
    "# VER2\n",
    "## 한 손 동작 인식 with 머신러닝\n",
    "# VER2"
   ]
  },
  {
   "cell_type": "code",
   "execution_count": 7,
   "id": "15067492-7f5a-4d1d-9678-ae20e25dcff7",
   "metadata": {},
   "outputs": [
    {
     "data": {
      "text/html": [
       "<style>#sk-container-id-1 {color: black;}#sk-container-id-1 pre{padding: 0;}#sk-container-id-1 div.sk-toggleable {background-color: white;}#sk-container-id-1 label.sk-toggleable__label {cursor: pointer;display: block;width: 100%;margin-bottom: 0;padding: 0.3em;box-sizing: border-box;text-align: center;}#sk-container-id-1 label.sk-toggleable__label-arrow:before {content: \"▸\";float: left;margin-right: 0.25em;color: #696969;}#sk-container-id-1 label.sk-toggleable__label-arrow:hover:before {color: black;}#sk-container-id-1 div.sk-estimator:hover label.sk-toggleable__label-arrow:before {color: black;}#sk-container-id-1 div.sk-toggleable__content {max-height: 0;max-width: 0;overflow: hidden;text-align: left;background-color: #f0f8ff;}#sk-container-id-1 div.sk-toggleable__content pre {margin: 0.2em;color: black;border-radius: 0.25em;background-color: #f0f8ff;}#sk-container-id-1 input.sk-toggleable__control:checked~div.sk-toggleable__content {max-height: 200px;max-width: 100%;overflow: auto;}#sk-container-id-1 input.sk-toggleable__control:checked~label.sk-toggleable__label-arrow:before {content: \"▾\";}#sk-container-id-1 div.sk-estimator input.sk-toggleable__control:checked~label.sk-toggleable__label {background-color: #d4ebff;}#sk-container-id-1 div.sk-label input.sk-toggleable__control:checked~label.sk-toggleable__label {background-color: #d4ebff;}#sk-container-id-1 input.sk-hidden--visually {border: 0;clip: rect(1px 1px 1px 1px);clip: rect(1px, 1px, 1px, 1px);height: 1px;margin: -1px;overflow: hidden;padding: 0;position: absolute;width: 1px;}#sk-container-id-1 div.sk-estimator {font-family: monospace;background-color: #f0f8ff;border: 1px dotted black;border-radius: 0.25em;box-sizing: border-box;margin-bottom: 0.5em;}#sk-container-id-1 div.sk-estimator:hover {background-color: #d4ebff;}#sk-container-id-1 div.sk-parallel-item::after {content: \"\";width: 100%;border-bottom: 1px solid gray;flex-grow: 1;}#sk-container-id-1 div.sk-label:hover label.sk-toggleable__label {background-color: #d4ebff;}#sk-container-id-1 div.sk-serial::before {content: \"\";position: absolute;border-left: 1px solid gray;box-sizing: border-box;top: 0;bottom: 0;left: 50%;z-index: 0;}#sk-container-id-1 div.sk-serial {display: flex;flex-direction: column;align-items: center;background-color: white;padding-right: 0.2em;padding-left: 0.2em;position: relative;}#sk-container-id-1 div.sk-item {position: relative;z-index: 1;}#sk-container-id-1 div.sk-parallel {display: flex;align-items: stretch;justify-content: center;background-color: white;position: relative;}#sk-container-id-1 div.sk-item::before, #sk-container-id-1 div.sk-parallel-item::before {content: \"\";position: absolute;border-left: 1px solid gray;box-sizing: border-box;top: 0;bottom: 0;left: 50%;z-index: -1;}#sk-container-id-1 div.sk-parallel-item {display: flex;flex-direction: column;z-index: 1;position: relative;background-color: white;}#sk-container-id-1 div.sk-parallel-item:first-child::after {align-self: flex-end;width: 50%;}#sk-container-id-1 div.sk-parallel-item:last-child::after {align-self: flex-start;width: 50%;}#sk-container-id-1 div.sk-parallel-item:only-child::after {width: 0;}#sk-container-id-1 div.sk-dashed-wrapped {border: 1px dashed gray;margin: 0 0.4em 0.5em 0.4em;box-sizing: border-box;padding-bottom: 0.4em;background-color: white;}#sk-container-id-1 div.sk-label label {font-family: monospace;font-weight: bold;display: inline-block;line-height: 1.2em;}#sk-container-id-1 div.sk-label-container {text-align: center;}#sk-container-id-1 div.sk-container {/* jupyter's `normalize.less` sets `[hidden] { display: none; }` but bootstrap.min.css set `[hidden] { display: none !important; }` so we also need the `!important` here to be able to override the default hidden behavior on the sphinx rendered scikit-learn.org. See: https://github.com/scikit-learn/scikit-learn/issues/21755 */display: inline-block !important;position: relative;}#sk-container-id-1 div.sk-text-repr-fallback {display: none;}</style><div id=\"sk-container-id-1\" class=\"sk-top-container\"><div class=\"sk-text-repr-fallback\"><pre>KNeighborsClassifier(n_neighbors=3)</pre><b>In a Jupyter environment, please rerun this cell to show the HTML representation or trust the notebook. <br />On GitHub, the HTML representation is unable to render, please try loading this page with nbviewer.org.</b></div><div class=\"sk-container\" hidden><div class=\"sk-item\"><div class=\"sk-estimator sk-toggleable\"><input class=\"sk-toggleable__control sk-hidden--visually\" id=\"sk-estimator-id-1\" type=\"checkbox\" checked><label for=\"sk-estimator-id-1\" class=\"sk-toggleable__label sk-toggleable__label-arrow\">KNeighborsClassifier</label><div class=\"sk-toggleable__content\"><pre>KNeighborsClassifier(n_neighbors=3)</pre></div></div></div></div></div>"
      ],
      "text/plain": [
       "KNeighborsClassifier(n_neighbors=3)"
      ]
     },
     "execution_count": 7,
     "metadata": {},
     "output_type": "execute_result"
    }
   ],
   "source": [
    "# gesture_train를 머신러닝 모델에 학습\n",
    "import numpy as np\n",
    "from sklearn.neighbors import KNeighborsClassifier\n",
    "\n",
    "gesture = {\n",
    "    0:'fist', 1:'one', 2:'two', 3:'three', 4:'four', 5:'five',\n",
    "    6:'six', 7:'rock', 8:'spiderman', 9:'yeah', 10:'ok',\n",
    "}\n",
    "\n",
    "file = np.genfromtxt('data/gesture_train.csv', delimiter=',')\n",
    "angle = file[:, :-1].astype(np.float32) # 문제데이터\n",
    "label = file[:, -1].astype(np.float32) # 정답데이터\n",
    "knn = KNeighborsClassifier(n_neighbors = 3)\n",
    "knn.fit(angle, label)\n"
   ]
  },
  {
   "cell_type": "code",
   "execution_count": 9,
   "id": "57212a68-e492-4c78-a4dc-dda868834c72",
   "metadata": {},
   "outputs": [],
   "source": [
    "import cv2\n",
    "import mediapipe as mp\n",
    "cap = cv2.VideoCapture(0)\n",
    "\n",
    "# 손을 찾는 기능 불러오기\n",
    "mp_hands = mp.solutions.hands\n",
    "# 특징점 그리기 설정\n",
    "mp_drawing = mp.solutions.drawing_utils\n",
    "# 손 특징점 찾기 관련 설정\n",
    "hands = mp_hands.Hands(\n",
    "    max_num_hands = 1, # 손 하나만 볼 것\n",
    "    min_detection_confidence = 0.5, # 손 검출 확률 (자체 판단) 50% 이상인 것들만 출력하기\n",
    "    min_tracking_confidence = 0.5 # 특지점 검출 확률 (자체 판단) 50% 이상인 것들만 출력하기\n",
    ")\n",
    "\n",
    "while cap.isOpened():\n",
    "    ret, img = cap.read()\n",
    "    img = cv2.flip(img, 1)\n",
    "    if not ret:\n",
    "        break\n",
    "\n",
    "    # 이미지에서 원하는 대상(손) 찾기\n",
    "    result = hands.process(img)\n",
    "    # 손을 검출했다면 표현하기\n",
    "    if result.multi_hand_landmarks is not None:\n",
    "        # 21개의 특징점을 하나씩 그려주기\n",
    "        for res in result.multi_hand_landmarks:\n",
    "            mp_drawing.draw_landmarks(img, res, mp_hands.HAND_CONNECTIONS)\n",
    "    \n",
    "    cv2.imshow('video', img)\n",
    "    if cv2.waitKey(33) == 49:\n",
    "        break\n",
    "\n",
    "cap.release()\n",
    "cv2.destroyAllWindows()"
   ]
  }
 ],
 "metadata": {
  "kernelspec": {
   "display_name": "Python 3 (ipykernel)",
   "language": "python",
   "name": "python3"
  },
  "language_info": {
   "codemirror_mode": {
    "name": "ipython",
    "version": 3
   },
   "file_extension": ".py",
   "mimetype": "text/x-python",
   "name": "python",
   "nbconvert_exporter": "python",
   "pygments_lexer": "ipython3",
   "version": "3.8.18"
  }
 },
 "nbformat": 4,
 "nbformat_minor": 5
}
