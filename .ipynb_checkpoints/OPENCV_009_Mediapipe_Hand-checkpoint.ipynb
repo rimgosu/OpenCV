{
 "cells": [
  {
   "cell_type": "code",
   "execution_count": 5,
   "id": "527121d2-5553-45fa-8351-3de2199b955c",
   "metadata": {},
   "outputs": [],
   "source": [
    "import cv2\n",
    "import mediapipe as mp\n",
    "cap = cv2.VideoCapture(0)\n",
    "\n",
    "# 손을 찾는 기능 불러오기\n",
    "mp_hands = mp.solutions.hands\n",
    "# 특징점 그리기 설정\n",
    "mp_drawing = mp.solutions.drawing_utils\n",
    "# 손 특징점 찾기 관련 설정\n",
    "hands = mp_hands.Hands(\n",
    "    max_num_hands = 2, \n",
    "    min_detection_confidence = 0.5, # 손 검출 확률 (자체 판단) 50% 이상인 것들만 출력하기\n",
    "    min_tracking_confidence = 0.5 # 특지점 검출 확률 (자체 판단) 50% 이상인 것들만 출력하기\n",
    ")\n",
    "\n",
    "while cap.isOpened():\n",
    "    ret, img = cap.read()\n",
    "    if not ret:\n",
    "        break\n",
    "    cv2.imshow('video', img)\n",
    "    if cv2.waitKey(33) == 49:\n",
    "        break\n",
    "\n",
    "cap.release()\n",
    "cv2.destroyAllWindows()"
   ]
  }
 ],
 "metadata": {
  "kernelspec": {
   "display_name": "Python 3 (ipykernel)",
   "language": "python",
   "name": "python3"
  },
  "language_info": {
   "codemirror_mode": {
    "name": "ipython",
    "version": 3
   },
   "file_extension": ".py",
   "mimetype": "text/x-python",
   "name": "python",
   "nbconvert_exporter": "python",
   "pygments_lexer": "ipython3",
   "version": "3.8.18"
  }
 },
 "nbformat": 4,
 "nbformat_minor": 5
}
