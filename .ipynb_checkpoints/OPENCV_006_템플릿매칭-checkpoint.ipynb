{
 "cells": [
  {
   "cell_type": "code",
   "execution_count": 3,
   "id": "32aef77d-d1d9-432a-9d89-4cb11e13da9d",
   "metadata": {},
   "outputs": [],
   "source": [
    "# 템플릿 매칭\n",
    "# 배경 사진에서 원하는 물체 찾기\n",
    "# 메이플 배경 이미지에서 파란 달팽이, 초롯 버섯 찾기"
   ]
  },
  {
   "cell_type": "code",
   "execution_count": 24,
   "id": "a89194f1-e344-47a1-8db8-3b3e0de63617",
   "metadata": {},
   "outputs": [],
   "source": [
    "import cv2\n",
    "import numpy as np\n",
    "\n",
    "def open_image(img_path):\n",
    "    \"\"\"이미지 파일을 열고 그레이스케일로 변환합니다.\"\"\"\n",
    "    img = cv2.imread(img_path)\n",
    "    img_gray = cv2.cvtColor(img, cv2.COLOR_BGR2GRAY)\n",
    "    return img, img_gray\n",
    "\n",
    "def draw_matched_rectangles(img, small_img_shape, locations, color):\n",
    "    \"\"\"일치하는 위치에 사각형을 그립니다.\"\"\"\n",
    "    h, w = small_img_shape\n",
    "    for pt in zip(*locations[::-1]):\n",
    "        cv2.rectangle(img, pt, (pt[0] + w, pt[1] + h), color, 3)\n",
    "\n",
    "def template_matching(img, small_image, threshold=0.75, color=(0,0,255)):\n",
    "    \"\"\"템플릿 매칭을 실행하고 일치하는 위치에 사각형을 그립니다.\"\"\"\n",
    "    img_gray = cv2.cvtColor(img, cv2.COLOR_BGR2GRAY)\n",
    "    small_image_gray = cv2.cvtColor(small_image, cv2.COLOR_BGR2GRAY)\n",
    "    \n",
    "    res = cv2.matchTemplate(img_gray, small_image_gray, cv2.TM_CCOEFF_NORMED)\n",
    "    loc = np.where(res >= threshold)\n",
    "    \n",
    "    draw_matched_rectangles(img, small_image_gray.shape, loc, color=color)\n"
   ]
  },
  {
   "cell_type": "code",
   "execution_count": 26,
   "id": "1c15bafc-bb3a-4c7c-83f9-467299119aa8",
   "metadata": {},
   "outputs": [],
   "source": [
    "img, img_gray = open_image('./images/maple_images/screenshot.jpg')\n",
    "blue_snail, _ = open_image('./images/maple_images/blue_snail.jpg')\n",
    "green_mushroom, _ = open_image('./images/maple_images/green_mushroom.jpg')\n",
    "\n",
    "img_copy = img.copy()\n",
    "\n",
    "template_matching(img_copy, blue_snail)\n",
    "template_matching(img_copy, green_mushroom, color=(255,0,0))\n",
    "\n",
    "cv2.imshow('maple', img_copy)\n",
    "cv2.waitKey(0)\n",
    "cv2.destroyAllWindows()\n"
   ]
  },
  {
   "cell_type": "code",
   "execution_count": null,
   "id": "32ab47a7-ac7e-4826-9a6d-6821b7e014dc",
   "metadata": {},
   "outputs": [],
   "source": []
  },
  {
   "cell_type": "code",
   "execution_count": null,
   "id": "1d92989a-8fb4-422e-9a61-66c957b8b4d6",
   "metadata": {},
   "outputs": [],
   "source": []
  },
  {
   "cell_type": "code",
   "execution_count": null,
   "id": "f406ccce-1282-4dac-960e-c7a4f639eec9",
   "metadata": {},
   "outputs": [],
   "source": []
  },
  {
   "cell_type": "code",
   "execution_count": null,
   "id": "6c74efd9-a5b1-46df-bcf9-0f59f5a4b9d2",
   "metadata": {},
   "outputs": [],
   "source": []
  },
  {
   "cell_type": "code",
   "execution_count": null,
   "id": "48d57744-57a9-4f7b-ba42-ee54c69bacf2",
   "metadata": {},
   "outputs": [],
   "source": []
  },
  {
   "cell_type": "code",
   "execution_count": null,
   "id": "c040fb72-8bfb-406f-a57f-3b162cdb9eb8",
   "metadata": {},
   "outputs": [],
   "source": []
  }
 ],
 "metadata": {
  "kernelspec": {
   "display_name": "Python 3 (ipykernel)",
   "language": "python",
   "name": "python3"
  },
  "language_info": {
   "codemirror_mode": {
    "name": "ipython",
    "version": 3
   },
   "file_extension": ".py",
   "mimetype": "text/x-python",
   "name": "python",
   "nbconvert_exporter": "python",
   "pygments_lexer": "ipython3",
   "version": "3.8.18"
  }
 },
 "nbformat": 4,
 "nbformat_minor": 5
}
