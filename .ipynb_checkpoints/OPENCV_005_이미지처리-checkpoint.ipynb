{
 "cells": [
  {
   "cell_type": "code",
   "execution_count": 5,
   "id": "bdbe8e9c-1f6f-4891-95cd-06690c5e4317",
   "metadata": {},
   "outputs": [],
   "source": [
    "import cv2"
   ]
  },
  {
   "cell_type": "code",
   "execution_count": 14,
   "id": "aee435f2-e60d-4487-aea5-02f9e7c008d3",
   "metadata": {},
   "outputs": [
    {
     "name": "stdout",
     "output_type": "stream",
     "text": [
      "종료\n"
     ]
    }
   ],
   "source": [
    "import cv2\n",
    "\n",
    "cap = cv2.VideoCapture(0)\n",
    "\n",
    "k = {}\n",
    "for i in range(0,10):\n",
    "    k[i] = 48+i\n",
    "\n",
    "setting = {\n",
    "    \"gray\" : False, \n",
    "    \"flip_left\" : False, \n",
    "    \"flip_up\" : False,\n",
    "    \"binary\" : False}\n",
    "\n",
    "while cap.isOpened():\n",
    "    # 영상에서 프레임 이미지 읽기\n",
    "    ret, frame = cap.read()\n",
    "    \n",
    "    if not ret:\n",
    "        print('종료')\n",
    "        break\n",
    "        \n",
    "    key = cv2.waitKey(33)\n",
    "\n",
    "    if key == k[1] :\n",
    "        setting['gray'] = not setting['gray']\n",
    "    elif key == k[2] :\n",
    "        setting['flip_left'] = not setting['flip_left']\n",
    "    elif key == k[3] :\n",
    "        setting['flip_up'] = not setting['flip_up']\n",
    "    elif key == k[4] :\n",
    "        setting['binary'] = not setting['binary']\n",
    "\n",
    "    if setting['gray']:\n",
    "        frame = cv2.cvtColor(frame, cv2.COLOR_BGR2GRAY)\n",
    "    if setting['flip_left']:\n",
    "        frame = cv2.flip(frame, 1)\n",
    "    if setting['flip_up']:\n",
    "        frame = cv2.flip(frame, 0)\n",
    "    if setting['binary']:\n",
    "        _, frame = cv2.threshold(frame, 180, 255, cv2.THRESH_BINARY)\n",
    "    \n",
    "    cv2.imshow('video', frame)\n",
    "    \n",
    "    # 만약 1키를 눌렀다면 종료\n",
    "    if key == k[5] :\n",
    "        print('종료')\n",
    "        break\n",
    "    \n",
    "cap.release()\n",
    "cv2.destroyAllWindows()"
   ]
  },
  {
   "cell_type": "code",
   "execution_count": null,
   "id": "89d9d47d-a460-436b-b1e5-735b0db0d4fb",
   "metadata": {},
   "outputs": [],
   "source": []
  }
 ],
 "metadata": {
  "kernelspec": {
   "display_name": "Python 3 (ipykernel)",
   "language": "python",
   "name": "python3"
  },
  "language_info": {
   "codemirror_mode": {
    "name": "ipython",
    "version": 3
   },
   "file_extension": ".py",
   "mimetype": "text/x-python",
   "name": "python",
   "nbconvert_exporter": "python",
   "pygments_lexer": "ipython3",
   "version": "3.8.18"
  }
 },
 "nbformat": 4,
 "nbformat_minor": 5
}
