{
 "cells": [
  {
   "cell_type": "markdown",
   "metadata": {
    "id": "_WCj569S4n5p"
   },
   "source": [
    "<img src=\"https://arome1004.cafe24.com/images/opencv/lecture_image/00_title.png\">"
   ]
  },
  {
   "cell_type": "markdown",
   "metadata": {
    "id": "w3Jwlfmo4n5r"
   },
   "source": [
    "<table border=1 width=100%>\n",
    "    <tr><td style=\"border: 1px solid black; width:600px; height:40px; text-align: center;\"><font size=4 color=blue><b>[3차시] 학습목표</b></font></td></tr>       \n",
    "    <tr><td style=\"border: 1px solid black; text-align: left;\"><font size=3>○ 카메라나 동영상으로부터 비디오 프레임 캡처하기<br>\n",
    "\n",
    "○ CCTV 만들기 - 동영상 녹화하기<br>\n",
    "\n",
    "○ 동영상에서 한 프레임을 이미지 파일로 저장하기<br>\n",
    "\n",
    "○ 저장한 이미지들을 동영상으로 만들기<br>\n",
    "\n",
    "○ 유튜브 영상 연동하기<br>\n",
    "        </font></td></tr>   \n",
    "</table>"
   ]
  },
  {
   "cell_type": "code",
   "execution_count": 1,
   "metadata": {
    "colab": {
     "base_uri": "https://localhost:8080/"
    },
    "executionInfo": {
     "elapsed": 35687,
     "status": "ok",
     "timestamp": 1694681511807,
     "user": {
      "displayName": "강성관",
      "userId": "00571094306841577419"
     },
     "user_tz": -540
    },
    "id": "fvOTf37z4tlY",
    "outputId": "ad6a2037-c19d-47a9-ce4f-a846a303f435"
   },
   "outputs": [
    {
     "name": "stdout",
     "output_type": "stream",
     "text": [
      "Mounted at /content/drive\n"
     ]
    }
   ],
   "source": [
    "# from google.colab import drive\n",
    "# drive.mount('/content/drive')"
   ]
  },
  {
   "cell_type": "code",
   "execution_count": 2,
   "metadata": {
    "colab": {
     "base_uri": "https://localhost:8080/"
    },
    "executionInfo": {
     "elapsed": 1700,
     "status": "ok",
     "timestamp": 1694681513503,
     "user": {
      "displayName": "강성관",
      "userId": "00571094306841577419"
     },
     "user_tz": -540
    },
    "id": "44gsr0Z04tsz",
    "outputId": "38230c93-7542-4931-c0de-7cc5cbd277a5"
   },
   "outputs": [
    {
     "name": "stdout",
     "output_type": "stream",
     "text": [
      "/content/drive/MyDrive/Colab Notebooks/인공지능강의/opencv\n"
     ]
    }
   ],
   "source": [
    "# %cd /content/drive/MyDrive/Colab Notebooks/인공지능강의/opencv"
   ]
  },
  {
   "cell_type": "markdown",
   "metadata": {
    "id": "gLauf9_UarFp"
   },
   "source": [
    "# 동영상을 읽고 출력하기\n",
    "\n",
    "## 카메라나 동영상으로부터 비디오 프레임 캡처하기\n",
    "\n",
    "- <font color=red>cap = cv2.VideoCapture(0)</font>\n",
    "  - 0번 카메라로부터 비디오 캡처\n",
    "  - 0 대신에 파일명을 입력하면 동영상으로부터 캡처\n",
    "    - cv2.VideoCapture(“images/video.mp4”)\n",
    "  - IP가 부여된 웹캠인 경우 IP와 카메라 번호를 입력\n",
    "    - cap = cv2.VideoCapture(\"rtsp:127.0.0.1/0\")\n",
    "  \n",
    "  \n",
    "- <font color=red>cap.set(3, 480)</font> : 비디오의 가로 크기 설정하기\n",
    "- <font color=red>cap.set(4, 320)</font> : 비디오의 세로 크기 설정하기\n",
    "- <font color=red>w = cap.get(3)</font> : 비디오의 가로 크기 가져오기\n",
    "- <font color=red>h = cap.get(4)</font> : 비디오의 세로 크기 가져오기\n",
    "\n",
    "\n",
    "- <font color=red>ret, frame = cap.read()</font>\n",
    "  - 카메라로부터 비디오 파일을 읽고 프레임(frame) 이미지와 읽기성공여부(ret)를 반환 (True/False)\n",
    "\n",
    "\n",
    "- <font color=red>key = cv2.waitKey(33)</font>\n",
    "  - 0.03초동안 키 입력을 대기 (30프레임인 경우)\n",
    "  - key 값은 아스키 코드로 반환\n",
    "  \n",
    "  \n",
    "- <font color=red>cap.release()</font>\n",
    "  - 비디오 객체를 종료하고 메모리를 해제\n",
    "  \n",
    "\n",
    "- 아스키 코드\n",
    "<img src=\"https://arome1004.cafe24.com/images/opencv/lecture_image/03_ascii.png\" width=70%>"
   ]
  },
  {
   "cell_type": "code",
   "execution_count": 2,
   "metadata": {
    "colab": {
     "base_uri": "https://localhost:8080/",
     "height": 55
    },
    "executionInfo": {
     "elapsed": 585,
     "status": "ok",
     "timestamp": 1601964088660,
     "user": {
      "displayName": "강성관",
      "photoUrl": "",
      "userId": "00571094306841577419"
     },
     "user_tz": -540
    },
    "id": "Gdu9-Y9LarFn",
    "outputId": "dc8915da-3df0-4d1f-d9fe-4e472c1c0911"
   },
   "outputs": [
    {
     "ename": "error",
     "evalue": "OpenCV(4.8.1) D:\\a\\opencv-python\\opencv-python\\opencv\\modules\\imgproc\\src\\color.cpp:182: error: (-215:Assertion failed) !_src.empty() in function 'cv::cvtColor'\n",
     "output_type": "error",
     "traceback": [
      "\u001b[1;31m---------------------------------------------------------------------------\u001b[0m",
      "\u001b[1;31merror\u001b[0m                                     Traceback (most recent call last)",
      "Cell \u001b[1;32mIn[2], line 22\u001b[0m\n\u001b[0;32m     19\u001b[0m frame \u001b[38;5;241m=\u001b[39m cv2\u001b[38;5;241m.\u001b[39mflip(frame, \u001b[38;5;241m1\u001b[39m)\n\u001b[0;32m     21\u001b[0m \u001b[38;5;66;03m# 흑백으로 전환\u001b[39;00m\n\u001b[1;32m---> 22\u001b[0m frame \u001b[38;5;241m=\u001b[39m cv2\u001b[38;5;241m.\u001b[39mcvtColor(frame, cv2\u001b[38;5;241m.\u001b[39mCOLOR_BGR2GRAY)\n\u001b[0;32m     24\u001b[0m \u001b[38;5;28;01mif\u001b[39;00m \u001b[38;5;129;01mnot\u001b[39;00m ret:\n\u001b[0;32m     25\u001b[0m     \u001b[38;5;28mprint\u001b[39m(\u001b[38;5;124m'\u001b[39m\u001b[38;5;124m종료\u001b[39m\u001b[38;5;124m'\u001b[39m)\n",
      "\u001b[1;31merror\u001b[0m: OpenCV(4.8.1) D:\\a\\opencv-python\\opencv-python\\opencv\\modules\\imgproc\\src\\color.cpp:182: error: (-215:Assertion failed) !_src.empty() in function 'cv::cvtColor'\n"
     ]
    }
   ],
   "source": [
    "import cv2\n",
    "\n",
    "# 카메라로부터 영상 가져오기\n",
    "cap = cv2.VideoCapture(0)\n",
    "\n",
    "# 동영상으로부터 영상 가져오기\n",
    "cap = cv2.VideoCapture(\"./images/video.mp4\")\n",
    "\n",
    "# 영상에서 이미지 프레임을 읽어서 출력\n",
    "# 영상이 열려 있는 동안\n",
    "while cap.isOpened():\n",
    "    # 영상에서 프레임 이미지 읽기\n",
    "    ret, frame = cap.read()\n",
    "    \n",
    "    # 좌우로 뒤집혀 나오는 것을 방지\n",
    "    # 1 : 좌우 반전\n",
    "    # 0 : 상하 반전\n",
    "    # -1 : 상하좌우 반전\n",
    "    frame = cv2.flip(frame, 1)\n",
    "    \n",
    "    # 흑백으로 전환\n",
    "    frame = cv2.cvtColor(frame, cv2.COLOR_BGR2GRAY)\n",
    "    \n",
    "    if not ret:\n",
    "        print('종료')\n",
    "        break\n",
    "        \n",
    "    # 출력\n",
    "    cv2.imshow('video', frame)\n",
    "    \n",
    "    # 초당 30장 출력하고 키 입력 받음\n",
    "    # 33/1000 초 딜레이\n",
    "    key = cv2.waitKey(33)\n",
    "    \n",
    "    # 만약 1키를 눌렀다면 종료\n",
    "    if key == 49 :\n",
    "        print('종료')\n",
    "        break\n",
    "    \n",
    "cap.release()\n",
    "cv2.destroyAllWindows()"
   ]
  },
  {
   "cell_type": "markdown",
   "metadata": {
    "id": "mpZrg3GO4n5u"
   },
   "source": [
    "<table border=1 width=100%>\n",
    "    <tr><td style=\"border: 1px solid black; width:600px; text-align: left;\"><font size=4 color=red><b>실습문제</b></font><br><br>\n",
    "        <font size=4>○ 동영상 파일을 읽고 출력해보자.</font></td></tr>       \n",
    "    <tr><td style=\"border: 1px solid black; text-align: left;\">\n",
    "        <img src=\"https://arome1004.cafe24.com/images/opencv/lecture_image/03_movie.png\" width=50%></td></tr>   \n",
    "</table>"
   ]
  },
  {
   "cell_type": "markdown",
   "metadata": {
    "id": "c_T9xGKy7YGH"
   },
   "source": [
    "## CCTV 만들기 - 동영상 녹화하기\n",
    "\n",
    "- <font color=red>codec = cv2.VideoWriter_fourcc('D', 'I', 'V', 'X')</font> : 비디오 타입을 DIVX로 설정\n",
    "\n",
    "<img src=\"https://arome1004.cafe24.com/images/opencv/lecture_image/03_codec.png\" width=70%>\n",
    "\n",
    "\n",
    "- <font color=red>out = cv2.VideoWriter('cctv01.avi', codec, fps, (w, h))</font>\n",
    "  - cctv01.avi 파일에 설정한 코덱, 프레임, 크기로 저장하도록 설정\n",
    "  \n",
    "  \n",
    "- <font color=red>out.write(frame)</font>  : 이미지 프레임을 파일에 쓰기\n",
    "\n",
    "\n",
    "- <font color=red>out.release() </font> : 파일 객체 해제하기"
   ]
  },
  {
   "cell_type": "code",
   "execution_count": 13,
   "metadata": {
    "id": "VuXcAroNarFq",
    "outputId": "21191986-ee04-4143-f089-45f3d8196e21"
   },
   "outputs": [
    {
     "name": "stdout",
     "output_type": "stream",
     "text": [
      "녹화시작\n",
      "녹화종료\n",
      "종료\n"
     ]
    }
   ],
   "source": [
    "import cv2\n",
    "\n",
    "cap = cv2.VideoCapture(\"./images/video.mp4\")\n",
    "\n",
    "# 초당 프레임 수는 원 영상과 동일하게 설정\n",
    "fps = int(cap.get(5))\n",
    "\n",
    "# 원 영상의 크기\n",
    "w = int(cap.get(3))\n",
    "h = int(cap.get(4))\n",
    "\n",
    "# 영상 코덱 설정\n",
    "codec = cv2.VideoWriter_fourcc(*\"DIVX\")\n",
    "\n",
    "# 저장할 영상파일 설정\n",
    "out = cv2.VideoWriter(\"./images/cctv01.avi\", codec, fps, (w,h))\n",
    "\n",
    "# 녹화여부\n",
    "record = False\n",
    "\n",
    "while cap.isOpened() :\n",
    "    ret, frame = cap.read()\n",
    "    \n",
    "    if not ret: \n",
    "        print(\"종료\")\n",
    "        break\n",
    "        \n",
    "    cv2.imshow(\"cctv\", frame)\n",
    "    \n",
    "    key = cv2.waitKey(33)\n",
    "    \n",
    "    if key == 49:\n",
    "        print(\"종료\")\n",
    "        break\n",
    "        \n",
    "    # 숫자 2를 누르면 녹화상태로 전환\n",
    "    if key == 50:\n",
    "        print(\"녹화시작\")\n",
    "        record = True\n",
    "        \n",
    "    # 숫자 3을 누르면 녹화 종료 상태로 전환\n",
    "    if key == 51:\n",
    "        print(\"녹화종료\")\n",
    "        record = False\n",
    "        \n",
    "    # 녹화\n",
    "    if record :\n",
    "        out.write(frame)\n",
    "        \n",
    "        \n",
    "out.release()\n",
    "cap.release()\n",
    "cv2.destroyAllWindows()"
   ]
  },
  {
   "cell_type": "code",
   "execution_count": null,
   "metadata": {
    "id": "VNVFVH8s7cs4"
   },
   "outputs": [],
   "source": [
    "# colab은 설치되어 있음\n",
    "!pip install moviepy"
   ]
  },
  {
   "cell_type": "code",
   "execution_count": null,
   "metadata": {
    "id": "12gs5r0O7jrH"
   },
   "outputs": [],
   "source": []
  },
  {
   "cell_type": "markdown",
   "metadata": {
    "id": "ARYE0iZR7YGL"
   },
   "source": [
    "# 동영상에서 한 프레임을 이미지 파일로 저장하기\n",
    "\n",
    "- <font color=red>cv2.imwrite(“파일명.확장자”, 프레임이미지, 옵션)</font>\n",
    "  - params=[cv2.IMWRITE_PNG_COMPRESSION, 0]) : 압축 하지 않는 PNG, 세 번째 파라미터는 압축률로 0~9까지 설정 가능 (0은 압축 없음)"
   ]
  },
  {
   "cell_type": "code",
   "execution_count": 17,
   "metadata": {
    "collapsed": true,
    "id": "mm27wOurarFs",
    "outputId": "23d68150-df97-4770-e818-42974043234c"
   },
   "outputs": [
    {
     "name": "stdout",
     "output_type": "stream",
     "text": [
      "./images/pic_1.png 파일을 저장했습니다.\n",
      "./images/pic_2.png 파일을 저장했습니다.\n",
      "./images/pic_3.png 파일을 저장했습니다.\n",
      "./images/pic_4.png 파일을 저장했습니다.\n",
      "./images/pic_5.png 파일을 저장했습니다.\n",
      "./images/pic_6.png 파일을 저장했습니다.\n",
      "./images/pic_7.png 파일을 저장했습니다.\n",
      "./images/pic_8.png 파일을 저장했습니다.\n",
      "./images/pic_9.png 파일을 저장했습니다.\n",
      "./images/pic_10.png 파일을 저장했습니다.\n",
      "./images/pic_11.png 파일을 저장했습니다.\n",
      "./images/pic_12.png 파일을 저장했습니다.\n",
      "./images/pic_13.png 파일을 저장했습니다.\n",
      "./images/pic_14.png 파일을 저장했습니다.\n",
      "./images/pic_15.png 파일을 저장했습니다.\n",
      "./images/pic_16.png 파일을 저장했습니다.\n",
      "./images/pic_17.png 파일을 저장했습니다.\n",
      "./images/pic_18.png 파일을 저장했습니다.\n",
      "./images/pic_19.png 파일을 저장했습니다.\n",
      "./images/pic_20.png 파일을 저장했습니다.\n",
      "./images/pic_21.png 파일을 저장했습니다.\n",
      "./images/pic_22.png 파일을 저장했습니다.\n",
      "./images/pic_23.png 파일을 저장했습니다.\n",
      "./images/pic_24.png 파일을 저장했습니다.\n",
      "./images/pic_25.png 파일을 저장했습니다.\n",
      "./images/pic_26.png 파일을 저장했습니다.\n",
      "./images/pic_27.png 파일을 저장했습니다.\n",
      "./images/pic_28.png 파일을 저장했습니다.\n",
      "./images/pic_29.png 파일을 저장했습니다.\n",
      "./images/pic_30.png 파일을 저장했습니다.\n",
      "./images/pic_31.png 파일을 저장했습니다.\n",
      "./images/pic_32.png 파일을 저장했습니다.\n",
      "./images/pic_33.png 파일을 저장했습니다.\n",
      "./images/pic_34.png 파일을 저장했습니다.\n",
      "./images/pic_35.png 파일을 저장했습니다.\n",
      "./images/pic_36.png 파일을 저장했습니다.\n",
      "./images/pic_37.png 파일을 저장했습니다.\n",
      "./images/pic_38.png 파일을 저장했습니다.\n",
      "./images/pic_39.png 파일을 저장했습니다.\n",
      "./images/pic_40.png 파일을 저장했습니다.\n",
      "./images/pic_41.png 파일을 저장했습니다.\n",
      "./images/pic_42.png 파일을 저장했습니다.\n",
      "./images/pic_43.png 파일을 저장했습니다.\n",
      "./images/pic_44.png 파일을 저장했습니다.\n",
      "./images/pic_45.png 파일을 저장했습니다.\n",
      "./images/pic_46.png 파일을 저장했습니다.\n",
      "./images/pic_47.png 파일을 저장했습니다.\n",
      "./images/pic_48.png 파일을 저장했습니다.\n",
      "./images/pic_49.png 파일을 저장했습니다.\n",
      "./images/pic_50.png 파일을 저장했습니다.\n",
      "./images/pic_51.png 파일을 저장했습니다.\n",
      "./images/pic_52.png 파일을 저장했습니다.\n",
      "./images/pic_53.png 파일을 저장했습니다.\n",
      "./images/pic_54.png 파일을 저장했습니다.\n",
      "./images/pic_55.png 파일을 저장했습니다.\n",
      "./images/pic_56.png 파일을 저장했습니다.\n",
      "./images/pic_57.png 파일을 저장했습니다.\n",
      "./images/pic_58.png 파일을 저장했습니다.\n",
      "./images/pic_59.png 파일을 저장했습니다.\n",
      "./images/pic_60.png 파일을 저장했습니다.\n",
      "./images/pic_61.png 파일을 저장했습니다.\n",
      "./images/pic_62.png 파일을 저장했습니다.\n",
      "./images/pic_63.png 파일을 저장했습니다.\n",
      "./images/pic_64.png 파일을 저장했습니다.\n",
      "./images/pic_65.png 파일을 저장했습니다.\n",
      "./images/pic_66.png 파일을 저장했습니다.\n",
      "./images/pic_67.png 파일을 저장했습니다.\n",
      "./images/pic_68.png 파일을 저장했습니다.\n",
      "./images/pic_69.png 파일을 저장했습니다.\n",
      "./images/pic_70.png 파일을 저장했습니다.\n",
      "./images/pic_71.png 파일을 저장했습니다.\n",
      "./images/pic_72.png 파일을 저장했습니다.\n",
      "./images/pic_73.png 파일을 저장했습니다.\n",
      "./images/pic_74.png 파일을 저장했습니다.\n",
      "./images/pic_75.png 파일을 저장했습니다.\n",
      "./images/pic_76.png 파일을 저장했습니다.\n",
      "./images/pic_77.png 파일을 저장했습니다.\n",
      "./images/pic_78.png 파일을 저장했습니다.\n",
      "./images/pic_79.png 파일을 저장했습니다.\n",
      "./images/pic_80.png 파일을 저장했습니다.\n",
      "./images/pic_81.png 파일을 저장했습니다.\n",
      "./images/pic_82.png 파일을 저장했습니다.\n",
      "./images/pic_83.png 파일을 저장했습니다.\n",
      "./images/pic_84.png 파일을 저장했습니다.\n",
      "./images/pic_85.png 파일을 저장했습니다.\n",
      "./images/pic_86.png 파일을 저장했습니다.\n",
      "./images/pic_87.png 파일을 저장했습니다.\n",
      "./images/pic_88.png 파일을 저장했습니다.\n",
      "./images/pic_89.png 파일을 저장했습니다.\n",
      "./images/pic_90.png 파일을 저장했습니다.\n",
      "./images/pic_91.png 파일을 저장했습니다.\n",
      "./images/pic_92.png 파일을 저장했습니다.\n",
      "./images/pic_93.png 파일을 저장했습니다.\n",
      "./images/pic_94.png 파일을 저장했습니다.\n",
      "./images/pic_95.png 파일을 저장했습니다.\n",
      "./images/pic_96.png 파일을 저장했습니다.\n",
      "./images/pic_97.png 파일을 저장했습니다.\n",
      "./images/pic_98.png 파일을 저장했습니다.\n",
      "./images/pic_99.png 파일을 저장했습니다.\n",
      "./images/pic_100.png 파일을 저장했습니다.\n",
      "./images/pic_101.png 파일을 저장했습니다.\n",
      "./images/pic_102.png 파일을 저장했습니다.\n",
      "./images/pic_103.png 파일을 저장했습니다.\n",
      "./images/pic_104.png 파일을 저장했습니다.\n",
      "./images/pic_105.png 파일을 저장했습니다.\n",
      "./images/pic_106.png 파일을 저장했습니다.\n",
      "./images/pic_107.png 파일을 저장했습니다.\n",
      "./images/pic_108.png 파일을 저장했습니다.\n",
      "./images/pic_109.png 파일을 저장했습니다.\n",
      "./images/pic_110.png 파일을 저장했습니다.\n",
      "./images/pic_111.png 파일을 저장했습니다.\n",
      "./images/pic_112.png 파일을 저장했습니다.\n",
      "./images/pic_113.png 파일을 저장했습니다.\n",
      "./images/pic_114.png 파일을 저장했습니다.\n",
      "./images/pic_115.png 파일을 저장했습니다.\n",
      "./images/pic_116.png 파일을 저장했습니다.\n",
      "./images/pic_117.png 파일을 저장했습니다.\n",
      "./images/pic_118.png 파일을 저장했습니다.\n",
      "./images/pic_119.png 파일을 저장했습니다.\n",
      "./images/pic_120.png 파일을 저장했습니다.\n",
      "./images/pic_121.png 파일을 저장했습니다.\n",
      "./images/pic_122.png 파일을 저장했습니다.\n",
      "./images/pic_123.png 파일을 저장했습니다.\n",
      "./images/pic_124.png 파일을 저장했습니다.\n",
      "./images/pic_125.png 파일을 저장했습니다.\n",
      "./images/pic_126.png 파일을 저장했습니다.\n",
      "./images/pic_127.png 파일을 저장했습니다.\n",
      "./images/pic_128.png 파일을 저장했습니다.\n",
      "./images/pic_129.png 파일을 저장했습니다.\n",
      "./images/pic_130.png 파일을 저장했습니다.\n",
      "./images/pic_131.png 파일을 저장했습니다.\n",
      "./images/pic_132.png 파일을 저장했습니다.\n",
      "./images/pic_133.png 파일을 저장했습니다.\n",
      "./images/pic_134.png 파일을 저장했습니다.\n",
      "./images/pic_135.png 파일을 저장했습니다.\n",
      "./images/pic_136.png 파일을 저장했습니다.\n",
      "./images/pic_137.png 파일을 저장했습니다.\n",
      "./images/pic_138.png 파일을 저장했습니다.\n",
      "./images/pic_139.png 파일을 저장했습니다.\n",
      "./images/pic_140.png 파일을 저장했습니다.\n",
      "./images/pic_141.png 파일을 저장했습니다.\n",
      "./images/pic_142.png 파일을 저장했습니다.\n",
      "./images/pic_143.png 파일을 저장했습니다.\n",
      "./images/pic_144.png 파일을 저장했습니다.\n",
      "./images/pic_145.png 파일을 저장했습니다.\n",
      "./images/pic_146.png 파일을 저장했습니다.\n",
      "./images/pic_147.png 파일을 저장했습니다.\n",
      "./images/pic_148.png 파일을 저장했습니다.\n",
      "./images/pic_149.png 파일을 저장했습니다.\n",
      "종료\n"
     ]
    }
   ],
   "source": [
    "import cv2\n",
    "\n",
    "cap = cv2.VideoCapture(\"./images/video.mp4\")\n",
    "co = 0\n",
    "\n",
    "while cap.isOpened():\n",
    "    ret, frame = cap.read()\n",
    "    \n",
    "    if not ret:\n",
    "        print('종료')\n",
    "        break\n",
    "        \n",
    "    cv2.imshow('video', frame)\n",
    "    \n",
    "    key = cv2.waitKey(33)\n",
    "    \n",
    "    if key == 49 :\n",
    "        print('종료')\n",
    "        break\n",
    "        \n",
    "    # 이미지로 저장\n",
    "    # 2를 누르면\n",
    "    if key == 50:\n",
    "        co += 1\n",
    "        print(f\"./images/pic_{co}.png 파일을 저장했습니다.\")\n",
    "        cv2.imwrite(f\"./images/pic_{co}.png\", frame, params=[cv2.IMWRITE_PNG_COMPRESSION, 0])\n",
    "        \n",
    "    \n",
    "cap.release()\n",
    "cv2.destroyAllWindows()"
   ]
  },
  {
   "cell_type": "markdown",
   "metadata": {
    "id": "Q2YlE60vAEtW"
   },
   "source": [
    "## 저장한 이미지들을 동영상으로 만들기"
   ]
  },
  {
   "cell_type": "code",
   "execution_count": 22,
   "metadata": {
    "id": "FUw1ewhLAEX_"
   },
   "outputs": [],
   "source": [
    "import cv2\n",
    "\n",
    "img = cv2.imread(\"./images/outs/pic_68.png\")\n",
    "\n",
    "h,w,c = img.shape\n",
    "\n",
    "fps = 2.0\n",
    "\n",
    "codec = cv2.VideoWriter_fourcc(*\"DIVX\")\n",
    "\n",
    "out = cv2.VideoWriter(\"./images/pic_movie.avi\", codec, fps, (w,h))\n",
    "\n",
    "for i in range(68,85):\n",
    "    img = cv2.imread(f\"./images/outs/pic_{i}.png\")\n",
    "    \n",
    "    out.write(img)\n",
    "    \n",
    "out.release()\n",
    "    "
   ]
  },
  {
   "cell_type": "markdown",
   "metadata": {
    "id": "ZWVPFUud4n50"
   },
   "source": [
    "## pytube로 유튜브 영상 다운로드\n",
    "  \n",
    "  - 영상과 음성을 모두 다운로드"
   ]
  },
  {
   "cell_type": "code",
   "execution_count": 23,
   "metadata": {
    "collapsed": true,
    "id": "bhZtogoP4n50",
    "outputId": "5723585e-8bce-4cdb-f688-b960e6840457"
   },
   "outputs": [
    {
     "name": "stdout",
     "output_type": "stream",
     "text": [
      "Defaulting to user installation because normal site-packages is not writeable\n",
      "Collecting git+https://github.com/nficano/pytube.git\n",
      "  Cloning https://github.com/nficano/pytube.git to c:\\users\\newny\\appdata\\local\\temp\\pip-req-build-km79mdgm\n",
      "  Resolved https://github.com/nficano/pytube.git to commit a32fff39058a6f7e5e59ecd06a7467b71197ce35\n",
      "  Preparing metadata (setup.py): started\n",
      "  Preparing metadata (setup.py): finished with status 'done'\n",
      "Building wheels for collected packages: pytube\n",
      "  Building wheel for pytube (setup.py): started\n",
      "  Building wheel for pytube (setup.py): finished with status 'done'\n",
      "  Created wheel for pytube: filename=pytube-15.0.0-py3-none-any.whl size=57605 sha256=344bbb743e812a710c2b6860c39a7d051caa880e16edde405d041be28d3bb9d4\n",
      "  Stored in directory: C:\\Users\\newny\\AppData\\Local\\Temp\\pip-ephem-wheel-cache-9jeft1ns\\wheels\\f3\\dc\\d9\\e383b49a944d9ff6221de6cf073bb0c7294550ac15eec70fd9\n",
      "Successfully built pytube\n",
      "Installing collected packages: pytube\n",
      "Successfully installed pytube-15.0.0\n"
     ]
    },
    {
     "name": "stderr",
     "output_type": "stream",
     "text": [
      "DEPRECATION: Loading egg at c:\\programdata\\anaconda3\\lib\\site-packages\\vboxapi-1.0-py3.11.egg is deprecated. pip 23.3 will enforce this behaviour change. A possible replacement is to use pip for package installation..\n",
      "  Running command git clone --filter=blob:none --quiet https://github.com/nficano/pytube.git 'C:\\Users\\newny\\AppData\\Local\\Temp\\pip-req-build-km79mdgm'\n",
      "  WARNING: The script pytube.exe is installed in 'C:\\Users\\newny\\AppData\\Roaming\\Python\\Python311\\Scripts' which is not on PATH.\n",
      "  Consider adding this directory to PATH or, if you prefer to suppress this warning, use --no-warn-script-location.\n"
     ]
    }
   ],
   "source": [
    "# 아나콘다 프롬프트 창에서 실행\n",
    "!pip install --upgrade \"git+https://github.com/nficano/pytube.git\""
   ]
  },
  {
   "cell_type": "code",
   "execution_count": 39,
   "metadata": {
    "id": "CWCTzfqj4n50",
    "outputId": "e0da7e54-67b3-45df-cef7-4be3f9e1841c"
   },
   "outputs": [
    {
     "name": "stdout",
     "output_type": "stream",
     "text": [
      "제목 : 스타크래프트 II: 공허의 유산 오프닝 시네마틱 영상\n",
      "조회수 : 10116305\n",
      "평점 : None\n",
      "다운로드가 완료되었습니다.\n"
     ]
    }
   ],
   "source": [
    "import os\n",
    "import pytube\n",
    "from pytube.cli import on_progress\n",
    "\n",
    "def download_youtube_video(url, output_dir):\n",
    "    try:\n",
    "        yt = pytube.YouTube(url)\n",
    "        \n",
    "        print(f'제목 : {yt.title}')\n",
    "        print(f'조회수 : {yt.views}')\n",
    "        print(f'평점 : {yt.rating}')\n",
    "        \n",
    "        stream = yt.streams.filter(progressive=True, file_extension=\"mp4\") \\\n",
    "                          .order_by(\"resolution\").desc().first()\n",
    "        \n",
    "        if stream:\n",
    "            stream.download(output_dir)\n",
    "            print(\"다운로드가 완료되었습니다.\")\n",
    "        else:\n",
    "            print(\"해당 해상도의 영상을 찾을 수 없습니다.\")\n",
    "    except Exception as e:\n",
    "        print(f\"다운로드 중 오류 발생: {str(e)}\")\n",
    "\n",
    "# 사용 예시\n",
    "url = \"https://www.youtube.com/watch?v=A5AmE_b68cg\"\n",
    "output_directory = \"./images/youtube_download\"\n",
    "download_youtube_video(url, output_directory)"
   ]
  },
  {
   "cell_type": "markdown",
   "metadata": {
    "id": "7lkTdR7G4n51"
   },
   "source": [
    "\n",
    "<table border=1 width=100%>\n",
    "    <tr><td style=\"border: 1px solid black; width:600px; text-align: left;\"><font size=4 color=red><b>실습문제</b></font><br><br>\n",
    "        <font size=4>○ 다른 유튜브 영상을 읽고 출력해보자.</font></td></tr>       \n",
    "    <tr><td style=\"border: 1px solid black; text-align: left;\">\n",
    "        <img src=\"https://arome1004.cafe24.com/images/opencv/lecture_image/03_youtube.png\" width=50%></td></tr>   \n",
    "</table>"
   ]
  },
  {
   "cell_type": "markdown",
   "metadata": {
    "id": "ZSO3b1_t4n51"
   },
   "source": [
    "<table border=1 width=100%>\n",
    "    <tr><td style=\"border: 1px solid black; width:600px; text-align: left;\"><font size=4 color=red><b>실습문제</b></font><br><br>\n",
    "        <font size=4>○ 다른 유튜브 영상을 저장해보자.</font></td></tr>   \n",
    "</table>"
   ]
  },
  {
   "cell_type": "markdown",
   "metadata": {
    "id": "wkX30_wh4n51"
   },
   "source": [
    "<table border=1 width=100%>\n",
    "    <tr><td style=\"border: 1px solid black; width:600px; height:40px; text-align: center;\"><font size=4 color=blue><b>[3차시] 학습요약</b></font></td></tr>       \n",
    "    <tr><td style=\"border: 1px solid black; text-align: left;\"><font size=3>\n",
    "        \n",
    "○ <font color=red>cv2.VideoCapture()</font> : 비디오 캡처 (카메라, 동영상, 유튜브 등)<br>\n",
    "○ <font color=red>ret, frame = cap.read()</font> : 비디오로부터 프레임 이미지를 읽어서 반환<br>\n",
    "○ <font color=red>cv2.VideoWriter_fourcc ()</font> : 녹화 파일을 설정하는 함수<br>\n",
    "○ <font color=red>out.write()</font> : 영상을 저장<br>\n",
    "○ <font color=red>cv2.imwrite()</font> : 이미지를 저장<br>\n",
    "\n",
    "        \n",
    "○ 일반적인 동영상은 1초에 30장의 프레임이미지로 구성<br>\n",
    "○ pafy : 유투브 메타 데이터를 가져오는 라이브러리<br>\n",
    "○ yt-dlp : 유투브 영상을 다운로드하는 라이브러리 (음성 제외)<br>\n",
    "○ pytube : 유투브 영상을 다운로드하는 라이브러리 (음성 포함)\n",
    "         \n",
    "        \n",
    "</font></td></tr>   \n",
    "</table>"
   ]
  }
 ],
 "metadata": {
  "colab": {
   "provenance": []
  },
  "hide_input": false,
  "kernelspec": {
   "display_name": "Python 3 (ipykernel)",
   "language": "python",
   "name": "python3"
  },
  "language_info": {
   "codemirror_mode": {
    "name": "ipython",
    "version": 3
   },
   "file_extension": ".py",
   "mimetype": "text/x-python",
   "name": "python",
   "nbconvert_exporter": "python",
   "pygments_lexer": "ipython3",
   "version": "3.11.4"
  },
  "toc": {
   "base_numbering": 1,
   "nav_menu": {},
   "number_sections": true,
   "sideBar": true,
   "skip_h1_title": false,
   "title_cell": "Table of Contents",
   "title_sidebar": "Contents",
   "toc_cell": false,
   "toc_position": {
    "height": "calc(100% - 180px)",
    "left": "10px",
    "top": "150px",
    "width": "165px"
   },
   "toc_section_display": true,
   "toc_window_display": true
  }
 },
 "nbformat": 4,
 "nbformat_minor": 1
}
